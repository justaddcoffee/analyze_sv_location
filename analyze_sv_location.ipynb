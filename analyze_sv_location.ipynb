{
 "cells": [
  {
   "cell_type": "code",
   "execution_count": 1,
   "metadata": {
    "pycharm": {
     "is_executing": false
    }
   },
   "outputs": [],
   "source": [
    "# to make bed files:\n",
    "# python3 make_bed.py -c -q benign -o benign.bed.gz -d /Users/jtr4v/projects/MI/sv_project/pbga/pbga-main/data/hg19_sv_database.mv.db \n",
    "# python3 make_bed.py -c -q pathogenic -o pathogenic.bed.gz -d /Users/jtr4v/projects/MI/sv_project/pbga/pbga-main/data/hg19_sv_database.mv.db \n",
    "# bedtools intersect -a pathogenic.bed.gz -b benign.bed.gz -wa | gzip > pathogenic_benign_overlap.bed.gz\n",
    "# find pathogenic SVs which overlap benign variants:\n",
    "# bedtools intersect -a pathogenic.bed.gz -b benign.bed.gz -wa > pathogenic_benign_overlap.bed"
   ]
  },
  {
   "cell_type": "code",
   "execution_count": 2,
   "metadata": {},
   "outputs": [],
   "source": [
    "import igv"
   ]
  },
  {
   "cell_type": "code",
   "execution_count": 3,
   "metadata": {},
   "outputs": [
    {
     "data": {
      "text/html": [
       "<div id=\"igv_9308630\"></div>"
      ],
      "text/plain": [
       "<IPython.core.display.HTML object>"
      ]
     },
     "metadata": {},
     "output_type": "display_data"
    }
   ],
   "source": [
    "b = igv.Browser({\"genome\": \"hg19\"})\n",
    "b.show()"
   ]
  },
  {
   "cell_type": "code",
   "execution_count": 4,
   "metadata": {},
   "outputs": [
    {
     "data": {
      "text/plain": [
       "'OK'"
      ]
     },
     "execution_count": 4,
     "metadata": {},
     "output_type": "execute_result"
    }
   ],
   "source": [
    "b.load_track(\n",
    "    {\n",
    "        \"name\": \"benign SVs\",\n",
    "        \"url\": \"benign.bed.gz\",\n",
    "        \"format\": \"bed\",\n",
    "        \"type\": \"variant\",\n",
    "        \"color\": \"green\",\n",
    "        \"indexed\": False\n",
    "    })\n",
    "b.load_track(\n",
    "    {\n",
    "        \"name\": \"pathogenic SVs\",\n",
    "        \"url\": \"pathogenic.bed.gz\",\n",
    "        \"format\": \"bed\",\n",
    "        \"type\": \"variant\",\n",
    "        \"color\": \"red\",\n",
    "        \"indexed\": False\n",
    "    })\n",
    "b.load_track(\n",
    "    {\n",
    "        \"name\": \"pathogenic SVs overlapping benign SVs\",\n",
    "        \"url\": \"pathogenic_benign_overlap.bed.gz\",\n",
    "        \"format\": \"bed\",\n",
    "        \"type\": \"variant\",\n",
    "        \"color\": \"orange\",\n",
    "        \"indexed\": False\n",
    "    })"
   ]
  },
  {
   "cell_type": "code",
   "execution_count": null,
   "metadata": {},
   "outputs": [],
   "source": []
  }
 ],
 "metadata": {
  "kernelspec": {
   "display_name": "Python 3",
   "language": "python",
   "name": "python3"
  },
  "language_info": {
   "codemirror_mode": {
    "name": "ipython",
    "version": 3
   },
   "file_extension": ".py",
   "mimetype": "text/x-python",
   "name": "python",
   "nbconvert_exporter": "python",
   "pygments_lexer": "ipython3",
   "version": "3.7.3"
  }
 },
 "nbformat": 4,
 "nbformat_minor": 1
}
