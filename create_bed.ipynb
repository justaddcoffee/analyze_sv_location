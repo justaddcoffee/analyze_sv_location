{
 "cells": [
  {
   "cell_type": "code",
   "execution_count": 2,
   "outputs": [
    {
     "name": "stderr",
     "text": [
      "querying table clingen_haploinsuffiency for pathogenic SVs\n",
      "querying table dbvar_variants for benign SVs\n",
      "querying table dbvar_variants for pathogenic SVs\n",
      "querying table decipher_cnv for benign SVs\n",
      "querying table dgv_variant for benign SVs\n",
      "querying table gnomad_sv for benign SVs\n",
      "querying table gonl for benign SVs\n",
      "querying table haploinsufficiency for benign SVs\n"
     ],
     "output_type": "stream"
    }
   ],
   "source": [
    "from pbga import H2DbManager\n",
    "import logging\n",
    "\n",
    "import functools\n",
    "import gzip\n",
    "\n",
    "LOG = logging.getLogger(__name__)\n",
    "LOG.setLevel(\"INFO\")\n",
    "\n",
    "MIN_OBS = 10  # minimum times to observe SV in order to trust frequency value\n",
    "MIN_FREQ = 0.05  # minimum frequency for SV to be considered benign\n",
    "\n",
    "SCORE_BENIGN = 0\n",
    "SCORE_PATHOGENIC = 1000\n",
    "\n",
    "config = {\n",
    "    'DBFILE': \"/Users/jtr4v/projects/MI/sv_project/pbga/pbga-main/data/hg19_sv_database.mv.db\",\n",
    "    'USER': \"sa\",\n",
    "    'PW': \"sa\",\n",
    "    'outfile': 'sv_track.bed.gz',\n",
    "    'queries':\n",
    "        {\n",
    "            'clingen_haploinsuffiency': {\n",
    "                'pathogenic': f\"select CONTIG, START, END, CONCAT('clingenHI gene:', GENE_SYMBOL), {SCORE_PATHOGENIC} \"\n",
    "                              \"from PBGA.CLINGEN_HAPLOINSUFFICIENCY\",\n",
    "            },\n",
    "            'dbvar_variants': {\n",
    "                'benign': f\"SELECT CHR_ONE, POS_ONE, POS_TWO, CONCAT('dbvar ', DBVAR_ACC, ' ', SV_TYPE), {SCORE_BENIGN} \"\n",
    "                          \"FROM PBGA.DBVAR_VARIANTS \"\n",
    "                          \"WHERE CLNSIG = 'BENIGN' \"\n",
    "                          \"OR CLNSIG = 'LIKELY_BENIGN' \"\n",
    "                          f\"OR (ALLELE_FREQUENCY != 'NaN' AND ALLELE_FREQUENCY > {MIN_FREQ} AND ALLELE_COUNT > {MIN_OBS})\",\n",
    "                'pathogenic': f\"SELECT CHR_ONE, POS_ONE, POS_TWO, CONCAT('dbvar ', DBVAR_ACC, ' ', SV_TYPE), {SCORE_PATHOGENIC}  \"\n",
    "                              \"FROM PBGA.DBVAR_VARIANTS \"\n",
    "                              \"WHERE CLNSIG = 'PATHOGENIC' \"\n",
    "                              \"OR CLNSIG = 'LIKELY_PATHOGENIC' \"\n",
    "            },\n",
    "            'decipher_cnv': {\n",
    "                'benign': f\"SELECT CONTIG, POS_ONE, POS_TWO, CONCAT('decipher ', POPULATION_CNV_ID, ' ', SV_TYPE), {SCORE_BENIGN} \"\n",
    "                          \"FROM PBGA.DECIPHER_CNV \"\n",
    "                          \"WHERE FREQUENCY != 'NaN' \"\n",
    "                          f\"AND FREQUENCY > {MIN_FREQ} \"\n",
    "                          f\"AND OBSERVATIONS > {MIN_OBS}\"\n",
    "            },\n",
    "            'dgv_variant': {\n",
    "                'benign': f\"SELECT CONTIG, POS_ONE, POS_TWO, CONCAT('dgv ', ACCESSION, ' ', SV_TYPE, ':', DGV_SUBTYPE), {SCORE_BENIGN} \"\n",
    "                          \"FROM PBGA.DGV_VARIANTS \"\n",
    "                          f\"WHERE ((OBSERVED_GAINS + OBSERVED_LOSSES)/SAMPLE_SIZE > {MIN_FREQ}) \"\n",
    "                          f\"AND SAMPLE_SIZE > {MIN_OBS}\"\n",
    "            },\n",
    "            'gnomad_sv': {\n",
    "                'benign': f\"SELECT CHR_ONE, POS_ONE, POS_TWO, CONCAT('gnomad ', ID, ' ', SV_TYPE), {SCORE_BENIGN} \"\n",
    "                          \"FROM PBGA.GNOMAD_SV \"\n",
    "                          f\"WHERE POPMAX_AF > {MIN_FREQ} \"\n",
    "                          f\"AND AC > {MIN_OBS}\"\n",
    "            },\n",
    "            'gonl': {\n",
    "                'benign': f\"SELECT CHR_ONE, POS_ONE, POS_TWO, CONCAT('gonl ', ID, '/', DGV_ID, ' ', SV_TYPE), {SCORE_BENIGN} \"\n",
    "                          \"FROM PBGA.GONL \"\n",
    "                          f\"WHERE AF > {MIN_FREQ} \"\n",
    "                          f\"AND AN > {MIN_OBS}\"\n",
    "            },\n",
    "            'haploinsufficiency': {\n",
    "                'benign': f\"select CONTIG, START, END, CONCAT('HI gene:', GENE_SYMBOL), {SCORE_PATHOGENIC} \"\n",
    "                                  \"from PBGA.HAPLOINSUFFICIENCY\"\n",
    "            },\n",
    "            'dbvar_variants': {\n",
    "                'benign': f\"SELECT CONTIG, POS_ONE, POS_TWO, CONCAT('isca ', ID, ' ', SV_TYPE), {SCORE_BENIGN} \"\n",
    "                          \"FROM PBGA.ISCA \"\n",
    "                          \"WHERE CLNSIG = 'BENIGN' \"\n",
    "                          \"OR CLNSIG = 'LIKELY_BENIGN' \",\n",
    "                'pathogenic': f\"SELECT CONTIG, POS_ONE, POS_TWO, CONCAT('isca ', ID, ' ', SV_TYPE), {SCORE_PATHOGENIC} \"\n",
    "                              \"FROM PBGA.ISCA \"\n",
    "                              \"WHERE CLNSIG = 'PATHOGENIC' \"\n",
    "                              \"OR CLNSIG = 'LIKELY_PATHOGENIC' \"\n",
    "            }\n",
    "    }\n",
    "}\n",
    "\n",
    "\n",
    "def row_to_bed_line(x1, x2):\n",
    "    return \"\\t\".join([str(x1), str(x2)])\n",
    "\n",
    "\n",
    "with H2DbManager(db_path=config.get('DBFILE'),\n",
    "                 user=config.get('USER'),\n",
    "                 password=config.get('PW')) as h2:\n",
    "    with h2.get_connection() as conn:\n",
    "\n",
    "        with gzip.open(config.get(\"outfile\"), 'wt') as f:\n",
    "\n",
    "            queries = config.get(\"queries\")\n",
    "            for query in queries:\n",
    "\n",
    "                for qtype in queries.get(query):\n",
    "                    LOG.warning(\"querying table {} for {} SVs\".format(query, qtype))\n",
    "                    select = queries.get(query).get(qtype)\n",
    "\n",
    "                    with conn.cursor() as cursor:\n",
    "                        cursor.execute(select)\n",
    "                        for row in cursor:\n",
    "                            f.write((functools.reduce(row_to_bed_line, row) + \"\\n\"))"
   ],
   "metadata": {
    "collapsed": false,
    "pycharm": {
     "name": "#%%\n",
     "is_executing": false
    }
   }
  }
 ],
 "metadata": {
  "kernelspec": {
   "display_name": "Python 3",
   "language": "python",
   "name": "python3"
  },
  "language_info": {
   "codemirror_mode": {
    "name": "ipython",
    "version": 2
   },
   "file_extension": ".py",
   "mimetype": "text/x-python",
   "name": "python",
   "nbconvert_exporter": "python",
   "pygments_lexer": "ipython2",
   "version": "2.7.6"
  },
  "pycharm": {
   "stem_cell": {
    "cell_type": "raw",
    "source": [],
    "metadata": {
     "collapsed": false
    }
   }
  }
 },
 "nbformat": 4,
 "nbformat_minor": 0
}
